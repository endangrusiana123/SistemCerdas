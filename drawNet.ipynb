{
  "nbformat": 4,
  "nbformat_minor": 0,
  "metadata": {
    "colab": {
      "provenance": []
    },
    "kernelspec": {
      "name": "python3",
      "display_name": "Python 3"
    },
    "language_info": {
      "name": "python"
    }
  },
  "cells": [
    {
      "cell_type": "markdown",
      "source": [
        "# ConvNet"
      ],
      "metadata": {
        "id": "SbnDT5lFn2SG"
      }
    },
    {
      "cell_type": "code",
      "execution_count": null,
      "metadata": {
        "colab": {
          "base_uri": "https://localhost:8080/"
        },
        "id": "SgJByb6RCwTS",
        "outputId": "a87933e1-2303-4216-d8c2-aa262792a70d"
      },
      "outputs": [
        {
          "output_type": "stream",
          "name": "stdout",
          "text": [
            "--2024-05-18 07:49:38--  https://raw.githubusercontent.com/gwding/draw_convnet/master/draw_convnet.py\n",
            "Resolving raw.githubusercontent.com (raw.githubusercontent.com)... 185.199.108.133, 185.199.109.133, 185.199.110.133, ...\n",
            "Connecting to raw.githubusercontent.com (raw.githubusercontent.com)|185.199.108.133|:443... connected.\n",
            "HTTP request sent, awaiting response... 200 OK\n",
            "Length: 9248 (9.0K) [text/plain]\n",
            "Saving to: ‘draw_convnet.py’\n",
            "\n",
            "draw_convnet.py     100%[===================>]   9.03K  --.-KB/s    in 0s      \n",
            "\n",
            "2024-05-18 07:49:38 (54.4 MB/s) - ‘draw_convnet.py’ saved [9248/9248]\n",
            "\n"
          ]
        }
      ],
      "source": [
        "# Download draw_convnet.py from GitHub\n",
        "!wget https://raw.githubusercontent.com/gwding/draw_convnet/master/draw_convnet.py"
      ]
    },
    {
      "cell_type": "code",
      "source": [
        "import draw_convnet\n",
        "import os\n",
        "import numpy as np\n",
        "import matplotlib.pyplot as plt\n",
        "\n",
        "NumDots = 4\n",
        "NumConvMax = 8\n",
        "NumFcMax = 20\n",
        "White = 1.\n",
        "Light = 0.7\n",
        "Medium = 0.5\n",
        "Dark = 0.3\n",
        "Darker = 0.15\n",
        "Black = 0.\n",
        "\n",
        "fc_unit_size = 2\n",
        "layer_width = 40\n",
        "flag_omit = True\n",
        "\n",
        "patches = []\n",
        "colors = []\n",
        "\n",
        "fig, ax = plt.subplots()\n",
        "\n",
        "\n",
        "############################\n",
        "# conv layers\n",
        "size_list = [(25, 25), (12, 12), (10, 10), (5, 5), (1, 1)]\n",
        "num_list = [16, 16, 32, 32, 800]\n",
        "x_diff_list = [0, layer_width, layer_width, layer_width, layer_width]\n",
        "text_list = ['Inputs'] + ['Feature\\nmaps'] * (len(size_list) - 1)\n",
        "loc_diff_list = [[3, -3]] * len(size_list)\n",
        "\n",
        "num_show_list = list(map(min, num_list, [NumConvMax] * len(num_list)))\n",
        "top_left_list = np.c_[np.cumsum(x_diff_list), np.zeros(len(x_diff_list))]\n",
        "\n",
        "for ind in range(len(size_list)-1,-1,-1):\n",
        "    if flag_omit:\n",
        "        draw_convnet.add_layer_with_omission(patches, colors, size=size_list[ind],\n",
        "                                num=num_list[ind],\n",
        "                                num_max=NumConvMax,\n",
        "                                num_dots=NumDots,\n",
        "                                top_left=top_left_list[ind],\n",
        "                                loc_diff=loc_diff_list[ind])\n",
        "    else:\n",
        "        draw_convnet.add_layer(patches, colors, size=size_list[ind],\n",
        "                  num=num_show_list[ind],\n",
        "                  top_left=top_left_list[ind], loc_diff=loc_diff_list[ind])\n",
        "    draw_convnet.label(top_left_list[ind], text_list[ind] + '\\n{}@{}x{}'.format(\n",
        "        num_list[ind], size_list[ind][0], size_list[ind][1]))\n",
        "\n",
        "############################\n",
        "# in between layers\n",
        "start_ratio_list = [[0.4, 0.5], [0.4, 0.8], [0.4, 0.5], [0.4, 0.8]]\n",
        "end_ratio_list = [[0.4, 0.5], [0.4, 0.8], [0.4, 0.5], [0.4, 0.8]]\n",
        "patch_size_list = [(4, 4), (2, 2), (3, 3), (2, 2)]\n",
        "ind_bgn_list = range(len(patch_size_list))\n",
        "text_list = ['Conv2D', 'MaxP2D', 'Conv2D', 'MaxP2D']\n",
        "\n",
        "for ind in range(len(patch_size_list)):\n",
        "    draw_convnet.add_mapping(\n",
        "        patches, colors, start_ratio_list[ind], end_ratio_list[ind],\n",
        "        patch_size_list[ind], ind,\n",
        "        top_left_list, loc_diff_list, num_show_list, size_list)\n",
        "    draw_convnet.label(top_left_list[ind], text_list[ind] + '\\n{}x{} kernel'.format(\n",
        "        patch_size_list[ind][0], patch_size_list[ind][1]), xy_off=[26, -65]\n",
        "    )\n",
        "\n",
        "\n",
        "############################\n",
        "# fully connected layers\n",
        "size_list = [(fc_unit_size, fc_unit_size)] * 3\n",
        "num_list = [256, 256, 10]\n",
        "num_show_list = list(map(min, num_list, [NumFcMax] * len(num_list)))\n",
        "x_diff_list = [sum(x_diff_list) + layer_width, layer_width, layer_width]\n",
        "top_left_list = np.c_[np.cumsum(x_diff_list), np.zeros(len(x_diff_list))]\n",
        "loc_diff_list = [[fc_unit_size, -fc_unit_size]] * len(top_left_list)\n",
        "text_list = ['Hidden\\nunits'] * (len(size_list) - 1) + ['Outputs']\n",
        "\n",
        "for ind in range(len(size_list)):\n",
        "    if flag_omit:\n",
        "        draw_convnet.add_layer_with_omission(patches, colors, size=size_list[ind],\n",
        "                                num=num_list[ind],\n",
        "                                num_max=NumFcMax,\n",
        "                                num_dots=NumDots,\n",
        "                                top_left=top_left_list[ind],\n",
        "                                loc_diff=loc_diff_list[ind])\n",
        "    else:\n",
        "        draw_convnet.add_layer(patches, colors, size=size_list[ind],\n",
        "                  num=num_show_list[ind],\n",
        "                  top_left=top_left_list[ind],\n",
        "                  loc_diff=loc_diff_list[ind])\n",
        "    draw_convnet.label(top_left_list[ind], text_list[ind] + '\\n{}'.format(\n",
        "        num_list[ind]))\n",
        "\n",
        "text_list = ['Flatten\\n', 'Fully\\nconnected', 'Fully\\nconnected']\n",
        "\n",
        "for ind in range(len(size_list)):\n",
        "    draw_convnet.label(top_left_list[ind], text_list[ind], xy_off=[-10, -65])\n",
        "\n",
        "############################\n",
        "for patch, color in zip(patches, colors):\n",
        "    patch.set_color(color * np.ones(3))\n",
        "    if isinstance(patch, draw_convnet.Line2D):\n",
        "        ax.add_line(patch)\n",
        "    else:\n",
        "        patch.set_edgecolor(Black * np.ones(3))\n",
        "        ax.add_patch(patch)\n",
        "\n",
        "plt.tight_layout()\n",
        "plt.axis('equal')\n",
        "plt.axis('off')\n",
        "plt.show()\n",
        "fig.set_size_inches(8, 2.5)\n",
        "\n",
        "fig_dir = './'\n",
        "fig_ext = '.png'\n",
        "fig.savefig(os.path.join(fig_dir, 'convnet_fig' + fig_ext),\n",
        "            bbox_inches='tight', pad_inches=0)"
      ],
      "metadata": {
        "colab": {
          "base_uri": "https://localhost:8080/",
          "height": 461
        },
        "id": "lO5r4EhFC5_i",
        "outputId": "b2aba015-66b0-4748-e1dd-239e95e731ba"
      },
      "execution_count": null,
      "outputs": [
        {
          "output_type": "stream",
          "name": "stderr",
          "text": [
            "<ipython-input-2-9d64f8df0f2f>:110: UserWarning: Tight layout not applied. The left and right margins cannot be made large enough to accommodate all axes decorations.\n",
            "  plt.tight_layout()\n"
          ]
        },
        {
          "output_type": "display_data",
          "data": {
            "text/plain": [
              "<Figure size 640x480 with 1 Axes>"
            ],
            "image/png": "[encoded data removed]"
          },
          "metadata": {}
        }
      ]
    }
  ]
}